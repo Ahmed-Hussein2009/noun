{
 "cells": [
  {
   "cell_type": "code",
   "execution_count": null,
   "id": "63543475",
   "metadata": {},
   "outputs": [],
   "source": [
    "# !pip install flask"
   ]
  },
  {
   "cell_type": "code",
   "execution_count": null,
   "id": "5b79ef36",
   "metadata": {},
   "outputs": [],
   "source": [
    "from flask import Flask\n",
    "from flask import request\n",
    "from flask import render_template\n",
    "app = Flask(__name__) "
   ]
  },
  {
   "cell_type": "code",
   "execution_count": null,
   "id": "bfa667aa",
   "metadata": {},
   "outputs": [],
   "source": [
    "@app.route('/')\n",
    "def index():\n",
    "    return render_template(\"Home.html\")\n",
    "\n",
    "@app.route('/about')\n",
    "def about():\n",
    "    return  render_template(\"about.html\")\n",
    "\n",
    "@app.route('/req')\n",
    "def req():\n",
    "    return render_template(\"sol.html\")\n",
    "@app.route('/success',methods = ['POST', 'GET'])  \n",
    "def print_data():  \n",
    "    if request.method == 'POST':  \n",
    "        result = request.form \n",
    "    print(result)\n",
    "    name=request.form.get('Name')\n",
    "    return render_template(\"result.html\",result = result,name=name)\n",
    "   \n",
    "   "
   ]
  },
  {
   "cell_type": "code",
   "execution_count": null,
   "id": "cfb24c4c",
   "metadata": {},
   "outputs": [],
   "source": [
    "if __name__ == '__main__':\n",
    "    app.run()\n",
    "    "
   ]
  },
  {
   "cell_type": "code",
   "execution_count": 4,
   "id": "38d81a0c",
   "metadata": {},
   "outputs": [
    {
     "ename": "SyntaxError",
     "evalue": "invalid syntax (Temp/ipykernel_18420/529112046.py, line 1)",
     "output_type": "error",
     "traceback": [
      "\u001b[1;36m  File \u001b[1;32m\"C:\\Users\\AHMEDH~1\\AppData\\Local\\Temp/ipykernel_18420/529112046.py\"\u001b[1;36m, line \u001b[1;32m1\u001b[0m\n\u001b[1;33m    ipython nbconvert — to script abc.ipynb def.ipynb\u001b[0m\n\u001b[1;37m            ^\u001b[0m\n\u001b[1;31mSyntaxError\u001b[0m\u001b[1;31m:\u001b[0m invalid syntax\n"
     ]
    }
   ],
   "source": []
  },
  {
   "cell_type": "code",
   "execution_count": null,
   "id": "aa928eeb",
   "metadata": {},
   "outputs": [],
   "source": []
  }
 ],
 "metadata": {
  "kernelspec": {
   "display_name": "'Python Interactive'",
   "language": "python",
   "name": "5878ad47-f1e3-44e4-bbf4-849130545bca"
  },
  "language_info": {
   "codemirror_mode": {
    "name": "ipython",
    "version": 3
   },
   "file_extension": ".py",
   "mimetype": "text/x-python",
   "name": "python",
   "nbconvert_exporter": "python",
   "pygments_lexer": "ipython3",
   "version": "3.9.7"
  }
 },
 "nbformat": 4,
 "nbformat_minor": 5
}
